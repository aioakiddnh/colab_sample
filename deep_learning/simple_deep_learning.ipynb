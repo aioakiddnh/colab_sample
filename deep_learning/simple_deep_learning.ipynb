{
  "nbformat": 4,
  "nbformat_minor": 0,
  "metadata": {
    "colab": {
      "name": "simple_deep_learning.ipynb",
      "provenance": [],
      "collapsed_sections": [],
      "toc_visible": true,
      "authorship_tag": "ABX9TyO3KAjzxgyio+AbR5ApsvTz",
      "include_colab_link": true
    },
    "kernelspec": {
      "name": "python3",
      "display_name": "Python 3"
    }
  },
  "cells": [
    {
      "cell_type": "markdown",
      "metadata": {
        "id": "view-in-github",
        "colab_type": "text"
      },
      "source": [
        "<a href=\"https://colab.research.google.com/github/aioakiddnh/colab_sample/blob/master/deep_learning/simple_deep_learning.ipynb\" target=\"_parent\"><img src=\"https://colab.research.google.com/assets/colab-badge.svg\" alt=\"Open In Colab\"/></a>"
      ]
    },
    {
      "cell_type": "markdown",
      "metadata": {
        "id": "FZzHfAYNxnRU",
        "colab_type": "text"
      },
      "source": [
        "#シンプルなディープラーニング"
      ]
    },
    {
      "cell_type": "markdown",
      "metadata": {
        "id": "vqWAv0vkxzuk",
        "colab_type": "text"
      },
      "source": [
        "##データの読み込み"
      ]
    },
    {
      "cell_type": "markdown",
      "metadata": {
        "id": "-CjnTKrk2Z_c",
        "colab_type": "text"
      },
      "source": [
        "Irisデータセットを読み込みます。  \n",
        "https://scikit-learn.org/stable/auto_examples/datasets/plot_iris_dataset.html"
      ]
    },
    {
      "cell_type": "code",
      "metadata": {
        "id": "k-sufHa9xtvD",
        "colab_type": "code",
        "outputId": "b0504ec0-4293-4707-b9fb-4456b4de050a",
        "colab": {
          "base_uri": "https://localhost:8080/",
          "height": 221
        }
      },
      "source": [
        "import numpy as np\n",
        "from sklearn import datasets #今回使うデータが入っている。\n",
        "\n",
        "iris = datasets.load_iris()\n",
        "print(iris.data[:10]) #最初の10個 #読み込んだirisのデータ #各行が各花に対応 [がくの幅と長さ、花びらの幅と長さ]\n",
        "print(iris.target[:10]) #品種(0, 1, 2)\n",
        "print(iris.data.shape) #データの形状 (行、列)"
      ],
      "execution_count": 1,
      "outputs": [
        {
          "output_type": "stream",
          "text": [
            "[[5.1 3.5 1.4 0.2]\n",
            " [4.9 3.  1.4 0.2]\n",
            " [4.7 3.2 1.3 0.2]\n",
            " [4.6 3.1 1.5 0.2]\n",
            " [5.  3.6 1.4 0.2]\n",
            " [5.4 3.9 1.7 0.4]\n",
            " [4.6 3.4 1.4 0.3]\n",
            " [5.  3.4 1.5 0.2]\n",
            " [4.4 2.9 1.4 0.2]\n",
            " [4.9 3.1 1.5 0.1]]\n",
            "[0 0 0 0 0 0 0 0 0 0]\n",
            "(150, 4)\n"
          ],
          "name": "stdout"
        }
      ]
    },
    {
      "cell_type": "markdown",
      "metadata": {
        "id": "zAHF1KfI64wd",
        "colab_type": "text"
      },
      "source": [
        "## データの前処理\n",
        "データの前処理として、標準化を行います。  \n",
        "標準化は、平均値が0、標準偏差が1になるように変換する処理です。  \n",
        "https://scikit-learn.org/stable/modules/preprocessing.html  \n",
        "  \n",
        "ラベルをone-hot表現に変換します。  \n",
        "one-hot表現は、一箇所だけ1で残りは０の配列です。  \n",
        "https://keras.io/ja/utils/np_utils/"
      ]
    },
    {
      "cell_type": "code",
      "metadata": {
        "id": "MqOKAxNdyhDk",
        "colab_type": "code",
        "outputId": "5cadfe30-fc61-4554-8909-d97688e12345",
        "colab": {
          "base_uri": "https://localhost:8080/",
          "height": 374
        }
      },
      "source": [
        "from sklearn import preprocessing #前処理\n",
        "from keras.utils import np_utils # kerasのユーティリティーズからnumpyのユーティリティーズを読み込む\n",
        "\n",
        "scaler = preprocessing.StandardScaler() #スケーラーをつくる\n",
        "\n",
        "# 前回組み込んだirisのデータに対してfitを行う。\n",
        "# これにより標準化のためのパラメータが計算される。\n",
        "# StandardScaler()は標準化のために使われる。\n",
        "# 標準化とはデータから平均値を引いて、標準偏差で割ったもの。こうすることで、データの平均値が0になり、標準偏差が1になる。\n",
        "# このような処理をすることでニューラルネットワークが学習しやすくなる。\n",
        "scaler.fit(iris.data) \n",
        "\n",
        "x = scaler.transform(iris.data) # iris.dataを標準化したものがxに入る。\n",
        "print(x[:10]) # 最初の10個を表示\n",
        "\n",
        "# 正解データ\n",
        "# ラベルのデータをone-hot表現に変換\n",
        "# one-hot表現とは、1か所だけ1でそれ以外は0の配列\n",
        "t = np_utils.to_categorical(iris.target)\n",
        "print(t[:10])"
      ],
      "execution_count": 2,
      "outputs": [
        {
          "output_type": "stream",
          "text": [
            "Using TensorFlow backend.\n"
          ],
          "name": "stderr"
        },
        {
          "output_type": "stream",
          "text": [
            "[[-0.90068117  1.01900435 -1.34022653 -1.3154443 ]\n",
            " [-1.14301691 -0.13197948 -1.34022653 -1.3154443 ]\n",
            " [-1.38535265  0.32841405 -1.39706395 -1.3154443 ]\n",
            " [-1.50652052  0.09821729 -1.2833891  -1.3154443 ]\n",
            " [-1.02184904  1.24920112 -1.34022653 -1.3154443 ]\n",
            " [-0.53717756  1.93979142 -1.16971425 -1.05217993]\n",
            " [-1.50652052  0.78880759 -1.34022653 -1.18381211]\n",
            " [-1.02184904  0.78880759 -1.2833891  -1.3154443 ]\n",
            " [-1.74885626 -0.36217625 -1.34022653 -1.3154443 ]\n",
            " [-1.14301691  0.09821729 -1.2833891  -1.44707648]]\n",
            "[[1. 0. 0.]\n",
            " [1. 0. 0.]\n",
            " [1. 0. 0.]\n",
            " [1. 0. 0.]\n",
            " [1. 0. 0.]\n",
            " [1. 0. 0.]\n",
            " [1. 0. 0.]\n",
            " [1. 0. 0.]\n",
            " [1. 0. 0.]\n",
            " [1. 0. 0.]]\n"
          ],
          "name": "stdout"
        }
      ]
    },
    {
      "cell_type": "markdown",
      "metadata": {
        "id": "beu-N54k6yDo",
        "colab_type": "text"
      },
      "source": [
        "## 訓練データとテストデータ\n",
        "データを訓練用のデータとテスト用のデータに分割します。  \n",
        "https://scikit-learn.org/stable/modules/generated/sklearn.model_selection.train_test_split.html"
      ]
    },
    {
      "cell_type": "code",
      "metadata": {
        "id": "szWgDKPHWpo2",
        "colab_type": "code",
        "outputId": "fbaa5285-a809-4321-b87e-bc1def21d3d9",
        "colab": {
          "base_uri": "https://localhost:8080/",
          "height": 51
        }
      },
      "source": [
        "from sklearn.model_selection import train_test_split #訓練データとテストデータに分割していく。\n",
        "\n",
        "# 入力x, 正解t\n",
        "# train_size=0.75：入力の75%をトレーニングデータに、残りの25%をテスト用データに\n",
        "# train_test_splitの返り値は4つのデータが入ったタプル\n",
        "# x_train：訓練用の入力データ\n",
        "# t_train：訓練用の正解\n",
        "# x_test：テスト用の入力データ\n",
        "# x_train：テスト用の正解\n",
        "x_train, x_test, t_train, t_test = train_test_split(x, t, train_size=0.75)\n",
        "print(x_train.shape)\n",
        "print(x_test.shape)"
      ],
      "execution_count": 3,
      "outputs": [
        {
          "output_type": "stream",
          "text": [
            "(112, 4)\n",
            "(38, 4)\n"
          ],
          "name": "stdout"
        }
      ]
    },
    {
      "cell_type": "markdown",
      "metadata": {
        "id": "t3rEwckn7Acd",
        "colab_type": "text"
      },
      "source": [
        "## モデルの構築  \n",
        "4層からなる、シンプルなディープラーニングのモデルを構築します。  \n",
        "**Sequentilal**: 単純に層を積み重ねるモデル  \n",
        "https://keras.io/ja/models/sequential/\n",
        "\n",
        "**Dense**: 全結合層  \n",
        "https://keras.io/ja/layers/core/#dense  \n",
        "\n",
        "**Activation**: 活性化関数  \n",
        "https://keras.io/ja/layers/core/#activation  "
      ]
    },
    {
      "cell_type": "code",
      "metadata": {
        "id": "bf2KsKHizZ0M",
        "colab_type": "code",
        "outputId": "fde82dae-c2be-4034-da78-085f1bff822a",
        "colab": {
          "base_uri": "https://localhost:8080/",
          "height": 374
        }
      },
      "source": [
        "from keras.models import Sequential\n",
        "from keras.layers import Dense, Activation\n",
        "\n",
        "model = Sequential()\n",
        "\n",
        "# 中間層のニューロンが32、input_dim：入力層のニューロンの数=4(特徴量が4つのため)\n",
        "# Dense：全結合層、前の層と次の層が全て接続されている層\n",
        "model.add(Dense(32, input_dim=4)) \n",
        "\n",
        "# reluは活性化関数の1つ。\n",
        "# ニューロンへの入力と重みの積の総和にバイアスを足したものを活性化関数に入れる。\n",
        "# reluは層の数が増えて行っても、勾配消失問題が起きづらい優れた活性化関数。\n",
        "# 中間層を追加するときは、DenseとActivationは別々に追加する。\n",
        "model.add(Activation('relu')) \n",
        "\n",
        "model.add(Dense(32)) #中間層で、入力は受け取らないので、input_dimは不要\n",
        "model.add(Activation('relu'))\n",
        "\n",
        "model.add(Dense(3)) #3種類の花に分類するため、最後の層のニューロン数は3になる。\n",
        "model.add(Activation('softmax'))\n",
        "\n",
        "# コンパイルをしないとこのモデルを使うことが出来ない。\n",
        "# optimizer：最適化アルゴリズム\n",
        "# loss：損失関数、出力と正解の誤差を定義するのにどのような関数を使うか\n",
        "  # categorical_crossentropy：交差エントロピー\n",
        "# metrix=['accuracy']：どのような精度が得られたか、後程結果として表示\n",
        "model.compile(optimizer='sgd', loss='categorical_crossentropy', metrics=['accuracy'])\n",
        "\n",
        "print(model.summary())"
      ],
      "execution_count": 4,
      "outputs": [
        {
          "output_type": "stream",
          "text": [
            "Model: \"sequential_1\"\n",
            "_________________________________________________________________\n",
            "Layer (type)                 Output Shape              Param #   \n",
            "=================================================================\n",
            "dense_1 (Dense)              (None, 32)                160       \n",
            "_________________________________________________________________\n",
            "activation_1 (Activation)    (None, 32)                0         \n",
            "_________________________________________________________________\n",
            "dense_2 (Dense)              (None, 32)                1056      \n",
            "_________________________________________________________________\n",
            "activation_2 (Activation)    (None, 32)                0         \n",
            "_________________________________________________________________\n",
            "dense_3 (Dense)              (None, 3)                 99        \n",
            "_________________________________________________________________\n",
            "activation_3 (Activation)    (None, 3)                 0         \n",
            "=================================================================\n",
            "Total params: 1,315\n",
            "Trainable params: 1,315\n",
            "Non-trainable params: 0\n",
            "_________________________________________________________________\n",
            "None\n"
          ],
          "name": "stdout"
        }
      ]
    },
    {
      "cell_type": "markdown",
      "metadata": {
        "id": "14MtIZuvIZwR",
        "colab_type": "text"
      },
      "source": [
        "dense_1 (Dense)          (None, 32)          160  \n",
        "**32個のニューロンがあって、入力が4で4×32=128**  \n",
        "**各ニューロンごとにバイアスがあるので、128+32=160**"
      ]
    },
    {
      "cell_type": "code",
      "metadata": {
        "id": "pjkxvG4FHtur",
        "colab_type": "code",
        "outputId": "03865cbd-c811-4da0-b98e-eef77a5ad109",
        "colab": {
          "base_uri": "https://localhost:8080/",
          "height": 1000
        }
      },
      "source": [
        "# x_train：訓練用の入力データ\n",
        "# t_train：訓練用の正解データ\n",
        "# nb_epoch：number of epoch,エポックの数（すべての訓練データを一回使い切ると1エポックと数える）\n",
        "# batch_size：サンプル数のまとまりの数\n",
        "history = model.fit(x_train, t_train, nb_epoch=30, batch_size=8)"
      ],
      "execution_count": 5,
      "outputs": [
        {
          "output_type": "stream",
          "text": [
            "/usr/local/lib/python3.6/dist-packages/ipykernel_launcher.py:5: UserWarning: The `nb_epoch` argument in `fit` has been renamed `epochs`.\n",
            "  \"\"\"\n"
          ],
          "name": "stderr"
        },
        {
          "output_type": "stream",
          "text": [
            "Epoch 1/30\n",
            "112/112 [==============================] - 0s 828us/step - loss: 1.2447 - accuracy: 0.3214\n",
            "Epoch 2/30\n",
            "112/112 [==============================] - 0s 153us/step - loss: 1.1101 - accuracy: 0.3571\n",
            "Epoch 3/30\n",
            "112/112 [==============================] - 0s 159us/step - loss: 1.0191 - accuracy: 0.3661\n",
            "Epoch 4/30\n",
            "112/112 [==============================] - 0s 159us/step - loss: 0.9470 - accuracy: 0.5804\n",
            "Epoch 5/30\n",
            "112/112 [==============================] - 0s 160us/step - loss: 0.8858 - accuracy: 0.7768\n",
            "Epoch 6/30\n",
            "112/112 [==============================] - 0s 161us/step - loss: 0.8307 - accuracy: 0.8214\n",
            "Epoch 7/30\n",
            "112/112 [==============================] - 0s 173us/step - loss: 0.7789 - accuracy: 0.8125\n",
            "Epoch 8/30\n",
            "112/112 [==============================] - 0s 180us/step - loss: 0.7308 - accuracy: 0.8125\n",
            "Epoch 9/30\n",
            "112/112 [==============================] - 0s 176us/step - loss: 0.6855 - accuracy: 0.8125\n",
            "Epoch 10/30\n",
            "112/112 [==============================] - 0s 159us/step - loss: 0.6459 - accuracy: 0.8214\n",
            "Epoch 11/30\n",
            "112/112 [==============================] - 0s 172us/step - loss: 0.6094 - accuracy: 0.8214\n",
            "Epoch 12/30\n",
            "112/112 [==============================] - 0s 202us/step - loss: 0.5766 - accuracy: 0.8214\n",
            "Epoch 13/30\n",
            "112/112 [==============================] - 0s 173us/step - loss: 0.5478 - accuracy: 0.8214\n",
            "Epoch 14/30\n",
            "112/112 [==============================] - 0s 199us/step - loss: 0.5217 - accuracy: 0.8304\n",
            "Epoch 15/30\n",
            "112/112 [==============================] - 0s 170us/step - loss: 0.4983 - accuracy: 0.8304\n",
            "Epoch 16/30\n",
            "112/112 [==============================] - 0s 197us/step - loss: 0.4771 - accuracy: 0.8304\n",
            "Epoch 17/30\n",
            "112/112 [==============================] - 0s 154us/step - loss: 0.4588 - accuracy: 0.8482\n",
            "Epoch 18/30\n",
            "112/112 [==============================] - 0s 161us/step - loss: 0.4417 - accuracy: 0.8661\n",
            "Epoch 19/30\n",
            "112/112 [==============================] - 0s 217us/step - loss: 0.4268 - accuracy: 0.8750\n",
            "Epoch 20/30\n",
            "112/112 [==============================] - 0s 196us/step - loss: 0.4124 - accuracy: 0.8750\n",
            "Epoch 21/30\n",
            "112/112 [==============================] - 0s 183us/step - loss: 0.3996 - accuracy: 0.8750\n",
            "Epoch 22/30\n",
            "112/112 [==============================] - 0s 190us/step - loss: 0.3876 - accuracy: 0.8750\n",
            "Epoch 23/30\n",
            "112/112 [==============================] - 0s 164us/step - loss: 0.3761 - accuracy: 0.8839\n",
            "Epoch 24/30\n",
            "112/112 [==============================] - 0s 173us/step - loss: 0.3668 - accuracy: 0.8929\n",
            "Epoch 25/30\n",
            "112/112 [==============================] - 0s 169us/step - loss: 0.3571 - accuracy: 0.8929\n",
            "Epoch 26/30\n",
            "112/112 [==============================] - 0s 174us/step - loss: 0.3473 - accuracy: 0.8929\n",
            "Epoch 27/30\n",
            "112/112 [==============================] - 0s 163us/step - loss: 0.3392 - accuracy: 0.9018\n",
            "Epoch 28/30\n",
            "112/112 [==============================] - 0s 172us/step - loss: 0.3315 - accuracy: 0.8929\n",
            "Epoch 29/30\n",
            "112/112 [==============================] - 0s 184us/step - loss: 0.3233 - accuracy: 0.9107\n",
            "Epoch 30/30\n",
            "112/112 [==============================] - 0s 170us/step - loss: 0.3167 - accuracy: 0.9107\n"
          ],
          "name": "stdout"
        }
      ]
    },
    {
      "cell_type": "markdown",
      "metadata": {
        "id": "9zOux0Z_c2fK",
        "colab_type": "text"
      },
      "source": [
        "## 学習の推移\n",
        "Historyには学習の経過が記録されています。  \n",
        "これを使って、学習の推移を表示します。"
      ]
    },
    {
      "cell_type": "code",
      "metadata": {
        "id": "1olJgMivqhaj",
        "colab_type": "code",
        "colab": {
          "base_uri": "https://localhost:8080/",
          "height": 265
        },
        "outputId": "3f2de55e-3fe2-45cd-e339-cb4c86c1dda9"
      },
      "source": [
        "import matplotlib.pyplot as plt\n",
        "\n",
        "hist_loss = history.history['loss']\n",
        "hist_acc = history.history['accuracy']\n",
        "\n",
        "# plt.plot(x軸, y軸, ラベル)\n",
        "plt.plot(np.arange(len(hist_loss)), hist_loss, label='loss') #arange(len(hist_loss))：0からhist_lossの要素の数より一つ小さい数まで整数が並んだ配列を得ることができる。\n",
        "plt.plot(np.arange(len(hist_acc)), hist_acc, label='accuracy') #精度\n",
        "plt.legend()\n",
        "plt.show()"
      ],
      "execution_count": 6,
      "outputs": [
        {
          "output_type": "display_data",
          "data": {
            "image/png": "[encoded data removed]",
            "text/plain": [
              "<Figure size 432x288 with 1 Axes>"
            ]
          },
          "metadata": {
            "tags": [],
            "needs_background": "light"
          }
        }
      ]
    },
    {
      "cell_type": "markdown",
      "metadata": {
        "id": "hr2K8bjEeV5S",
        "colab_type": "text"
      },
      "source": [
        "## 評価\n",
        "モデルの評価を行います。\n",
        "evaluate: 入力、正解データから誤差などを計算します。\n",
        "https://keras.io/ja/models/sequential/#evaluate"
      ]
    },
    {
      "cell_type": "code",
      "metadata": {
        "id": "Qh_xyywvc7oZ",
        "colab_type": "code",
        "colab": {
          "base_uri": "https://localhost:8080/",
          "height": 51
        },
        "outputId": "d8e7de3a-e17f-4b09-fb2b-47003cf5490b"
      },
      "source": [
        "loss, accuracy = model.evaluate(x_test, t_test) #evaluate：2つの値を基に誤差と精度を計算する、 #x_test：テスト用の入力, t_test：テスト用の正解\n",
        "print(loss, accuracy)"
      ],
      "execution_count": 7,
      "outputs": [
        {
          "output_type": "stream",
          "text": [
            "38/38 [==============================] - 0s 606us/step\n",
            "0.30506603655062225 0.8684210777282715\n"
          ],
          "name": "stdout"
        }
      ]
    },
    {
      "cell_type": "markdown",
      "metadata": {
        "id": "0zfu6DSve_2C",
        "colab_type": "text"
      },
      "source": [
        "誤差：0.30506603655062225           精度：0.8684210777282715"
      ]
    },
    {
      "cell_type": "markdown",
      "metadata": {
        "id": "avLB3w309TFk",
        "colab_type": "text"
      },
      "source": [
        "## 予測"
      ]
    },
    {
      "cell_type": "code",
      "metadata": {
        "id": "oYj5mKeve3r6",
        "colab_type": "code",
        "colab": {
          "base_uri": "https://localhost:8080/",
          "height": 663
        },
        "outputId": "95c36c95-73c8-40e1-8ba9-87c2ea3d6120"
      },
      "source": [
        "model.predict(x_test) #入力を受け取って予測した結果を出力する"
      ],
      "execution_count": 8,
      "outputs": [
        {
          "output_type": "execute_result",
          "data": {
            "text/plain": [
              "array([[0.00701844, 0.13131228, 0.86166924],\n",
              "       [0.13976595, 0.5378148 , 0.32241932],\n",
              "       [0.00291733, 0.10505367, 0.89202905],\n",
              "       [0.02630336, 0.26107916, 0.71261746],\n",
              "       [0.0286273 , 0.5209446 , 0.45042816],\n",
              "       [0.97249424, 0.02349752, 0.00400812],\n",
              "       [0.08925905, 0.6772012 , 0.23353976],\n",
              "       [0.09492268, 0.7624433 , 0.142634  ],\n",
              "       [0.05628823, 0.8277238 , 0.11598795],\n",
              "       [0.16644199, 0.61280376, 0.22075419],\n",
              "       [0.97261435, 0.02317116, 0.00421447],\n",
              "       [0.04084596, 0.4109138 , 0.5482402 ],\n",
              "       [0.96981424, 0.02475891, 0.00542686],\n",
              "       [0.00695922, 0.11651053, 0.87653023],\n",
              "       [0.02363691, 0.26299965, 0.7133634 ],\n",
              "       [0.01504939, 0.3522007 , 0.6327499 ],\n",
              "       [0.0094143 , 0.16002703, 0.8305587 ],\n",
              "       [0.00398266, 0.1410325 , 0.8549849 ],\n",
              "       [0.9775484 , 0.01912059, 0.00333092],\n",
              "       [0.9449445 , 0.04476363, 0.01029176],\n",
              "       [0.00786426, 0.18956678, 0.802569  ],\n",
              "       [0.03114665, 0.88743687, 0.08141639],\n",
              "       [0.9632881 , 0.03079835, 0.0059135 ],\n",
              "       [0.00885816, 0.17871952, 0.8124223 ],\n",
              "       [0.02371556, 0.18045324, 0.79583114],\n",
              "       [0.06090186, 0.6661388 , 0.27295923],\n",
              "       [0.08348427, 0.7383506 , 0.17816518],\n",
              "       [0.9346552 , 0.05180177, 0.01354299],\n",
              "       [0.96209276, 0.03099557, 0.00691172],\n",
              "       [0.9640958 , 0.02817043, 0.00773382],\n",
              "       [0.0317816 , 0.49135125, 0.47686714],\n",
              "       [0.00960212, 0.17615564, 0.81424224],\n",
              "       [0.05815729, 0.36579287, 0.57604986],\n",
              "       [0.01954962, 0.26646262, 0.71398777],\n",
              "       [0.06291834, 0.77917606, 0.15790553],\n",
              "       [0.07283095, 0.37641323, 0.5507558 ],\n",
              "       [0.0093698 , 0.1774508 , 0.8131794 ],\n",
              "       [0.02376545, 0.59915143, 0.37708303]], dtype=float32)"
            ]
          },
          "metadata": {
            "tags": []
          },
          "execution_count": 8
        }
      ]
    },
    {
      "cell_type": "markdown",
      "metadata": {
        "id": "0-lHAV2g9iwC",
        "colab_type": "text"
      },
      "source": [
        "↑\n",
        "各行が各出力、それぞれ足すと1になる。これは出力層でソフトマックス関数を使っているので、出力が確率を表しているから。"
      ]
    },
    {
      "cell_type": "markdown",
      "metadata": {
        "id": "DWvloQWjAMLK",
        "colab_type": "text"
      },
      "source": [
        "## 保存"
      ]
    },
    {
      "cell_type": "code",
      "metadata": {
        "id": "KXIQfMg_9dNf",
        "colab_type": "code",
        "colab": {
          "base_uri": "https://localhost:8080/",
          "height": 34
        },
        "outputId": "7de67030-d3de-4322-e2c8-3aba94e3c444"
      },
      "source": [
        "from keras.models import load_model\n",
        "\n",
        "model.save('model.h5') #保存するファイル名を指定して保存 拡張子'h5'(エッチファイブ)\n",
        "load_model('model.h5')"
      ],
      "execution_count": 9,
      "outputs": [
        {
          "output_type": "execute_result",
          "data": {
            "text/plain": [
              "<keras.engine.sequential.Sequential at 0x7f6c5cd7b5c0>"
            ]
          },
          "metadata": {
            "tags": []
          },
          "execution_count": 9
        }
      ]
    },
    {
      "cell_type": "code",
      "metadata": {
        "id": "Q7L1TwMWGNgT",
        "colab_type": "code",
        "colab": {}
      },
      "source": [
        ""
      ],
      "execution_count": 0,
      "outputs": []
    }
  ]
}