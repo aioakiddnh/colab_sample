{
  "nbformat": 4,
  "nbformat_minor": 0,
  "metadata": {
    "kernelspec": {
      "display_name": "Python 3",
      "language": "python",
      "name": "python3"
    },
    "language_info": {
      "codemirror_mode": {
        "name": "ipython",
        "version": 3
      },
      "file_extension": ".py",
      "mimetype": "text/x-python",
      "name": "python",
      "nbconvert_exporter": "python",
      "pygments_lexer": "ipython3",
      "version": "3.6.7"
    },
    "colab": {
      "name": "matplotlib.ipynb",
      "provenance": [],
      "collapsed_sections": [],
      "include_colab_link": true
    }
  },
  "cells": [
    {
      "cell_type": "markdown",
      "metadata": {
        "id": "view-in-github",
        "colab_type": "text"
      },
      "source": [
        "<a href=\"https://colab.research.google.com/github/aioakiddnh/colab_sample/blob/master/python/matplotlib.ipynb\" target=\"_parent\"><img src=\"https://colab.research.google.com/assets/colab-badge.svg\" alt=\"Open In Colab\"/></a>"
      ]
    },
    {
      "cell_type": "markdown",
      "metadata": {
        "id": "8kW_qXJVTjic",
        "colab_type": "text"
      },
      "source": [
        "# matplotlibの基礎\n",
        "グラフの描画や画像の表示、簡単なアニメーションの作成などを行うことができます。   "
      ]
    },
    {
      "cell_type": "markdown",
      "metadata": {
        "id": "0mu15tSKTjid",
        "colab_type": "text"
      },
      "source": [
        "## ●matplotlibのインポート\n",
        "グラフを描画するためには、matplotlibのpyplotというモジュールをインポートします。  \n",
        "pyplotはグラフの描画をサポートします。  \n",
        "データにはNumPyの配列を使いますので、NumPyもインポートします。  "
      ]
    },
    {
      "cell_type": "code",
      "metadata": {
        "id": "we7B75pyTjid",
        "colab_type": "code",
        "colab": {}
      },
      "source": [
        "import numpy as np\n",
        "import matplotlib.pyplot as plt"
      ],
      "execution_count": 0,
      "outputs": []
    },
    {
      "cell_type": "markdown",
      "metadata": {
        "id": "bgdKW1W2Tjih",
        "colab_type": "text"
      },
      "source": [
        "## ●linspace関数\n",
        "\n",
        "matplotlibでグラフを描画する際に、NumPyのlinspace関数がよく使われます。  \n",
        "linspace関数は、ある区間を50に等間隔で区切ってNumPyの配列にします。  \n",
        "この配列を、グラフの横軸の値としてよく使います。  "
      ]
    },
    {
      "cell_type": "code",
      "metadata": {
        "id": "qM9-iLYqTjih",
        "colab_type": "code",
        "outputId": "549521e1-eeca-4276-88ce-66f82f98ba0b",
        "colab": {
          "base_uri": "https://localhost:8080/",
          "height": 187
        }
      },
      "source": [
        "import numpy as np\n",
        "\n",
        "x = np.linspace(-5, 5)  # -5から5まで50に区切る\n",
        "\n",
        "print(x)\n",
        "print(len(x))  # xの要素数"
      ],
      "execution_count": 3,
      "outputs": [
        {
          "output_type": "stream",
          "text": [
            "[-5.         -4.79591837 -4.59183673 -4.3877551  -4.18367347 -3.97959184\n",
            " -3.7755102  -3.57142857 -3.36734694 -3.16326531 -2.95918367 -2.75510204\n",
            " -2.55102041 -2.34693878 -2.14285714 -1.93877551 -1.73469388 -1.53061224\n",
            " -1.32653061 -1.12244898 -0.91836735 -0.71428571 -0.51020408 -0.30612245\n",
            " -0.10204082  0.10204082  0.30612245  0.51020408  0.71428571  0.91836735\n",
            "  1.12244898  1.32653061  1.53061224  1.73469388  1.93877551  2.14285714\n",
            "  2.34693878  2.55102041  2.75510204  2.95918367  3.16326531  3.36734694\n",
            "  3.57142857  3.7755102   3.97959184  4.18367347  4.3877551   4.59183673\n",
            "  4.79591837  5.        ]\n",
            "50\n"
          ],
          "name": "stdout"
        }
      ]
    },
    {
      "cell_type": "markdown",
      "metadata": {
        "id": "aIhyp2e0Tjij",
        "colab_type": "text"
      },
      "source": [
        "この配列を使って、連続に変化する横軸の値を擬似的に表現します。"
      ]
    },
    {
      "cell_type": "markdown",
      "metadata": {
        "id": "z95B1-4gTjik",
        "colab_type": "text"
      },
      "source": [
        "## ●グラフの描画\n",
        "\n",
        "例として、pyplotを使って直線を描画します。  \n",
        "NumPyのlinspace関数でx座標のデータを配列として生成し、これに値をかけてy座標とします。  \n",
        "そして、pyplotのplotで、x座標、y座標のデータをプロットし、showでグラフを表示します。  "
      ]
    },
    {
      "cell_type": "code",
      "metadata": {
        "id": "9ZvIXOLNTjil",
        "colab_type": "code",
        "outputId": "91f7ec6d-26ac-4217-cc21-cd103ebf75fc",
        "colab": {
          "base_uri": "https://localhost:8080/",
          "height": 265
        }
      },
      "source": [
        "import numpy as np\n",
        "import matplotlib.pyplot as plt\n",
        "\n",
        "x = np.linspace(-5, 5)  # -5から5まで\n",
        "y = 2 * x  # xに2をかけてy座標とする\n",
        "\n",
        "plt.plot(x, y)\n",
        "plt.show()"
      ],
      "execution_count": 5,
      "outputs": [
        {
          "output_type": "display_data",
          "data": {
            "image/png": "[encoded data removed]",
            "text/plain": [
              "<Figure size 432x288 with 1 Axes>"
            ]
          },
          "metadata": {
            "tags": [],
            "needs_background": "light"
          }
        }
      ]
    },
    {
      "cell_type": "markdown",
      "metadata": {
        "id": "mBVPsou-Tjin",
        "colab_type": "text"
      },
      "source": [
        "## ●グラフの装飾\n",
        "軸のラベルやグラフのタイトル、凡例などを表示し、線のスタイルを変更してリッチなグラフにしましょう。"
      ]
    },
    {
      "cell_type": "code",
      "metadata": {
        "id": "OLs9cslOTjio",
        "colab_type": "code",
        "outputId": "72a65436-187a-49bc-86a2-d8bcf38094b8",
        "colab": {
          "base_uri": "https://localhost:8080/",
          "height": 295
        }
      },
      "source": [
        "import numpy as np\n",
        "import matplotlib.pyplot as plt\n",
        "\n",
        "x = np.linspace(-5, 5)\n",
        "y_1 = 2 * x\n",
        "y_2 = 3 * x\n",
        "\n",
        "# 軸のラベル\n",
        "plt.xlabel(\"x value\")\n",
        "plt.ylabel(\"y value\")\n",
        "\n",
        "# グラフのタイトル\n",
        "plt.title(\"My Graph\")\n",
        "\n",
        "# プロット 凡例と線のスタイルを指定\n",
        "plt.plot(x, y_1, label=\"y1\")\n",
        "plt.plot(x, y_2, label=\"y2\", linestyle=\"dashed\")\n",
        "plt.legend() # 凡例を表示\n",
        "\n",
        "plt.show()"
      ],
      "execution_count": 0,
      "outputs": [
        {
          "output_type": "display_data",
          "data": {
            "image/png": "[encoded data removed]",
            "text/plain": [
              "<Figure size 432x288 with 1 Axes>"
            ]
          },
          "metadata": {
            "tags": []
          }
        }
      ]
    },
    {
      "cell_type": "markdown",
      "metadata": {
        "id": "Em77a0SYTjiq",
        "colab_type": "text"
      },
      "source": [
        "## ●散布図の表示\n",
        "scatter関数により散布図を表示することができます。  \n",
        "以下のコードでは、x座標、y座標から散布図を描画しています。 "
      ]
    },
    {
      "cell_type": "code",
      "metadata": {
        "id": "pIJ6Wmc5Tjir",
        "colab_type": "code",
        "outputId": "5f128153-e871-44e8-9447-0810e0e55c9c",
        "colab": {
          "base_uri": "https://localhost:8080/",
          "height": 269
        }
      },
      "source": [
        "import numpy as np\n",
        "import matplotlib.pyplot as plt\n",
        "\n",
        "x = np.array([1.2, 2.4, 0.0, 1.4, 1.5])\n",
        "y = np.array([2.4, 1.4, 1.0, 0.1, 1.7])\n",
        "\n",
        "plt.scatter(x, y)  # 散布図のプロット\n",
        "plt.show()"
      ],
      "execution_count": 0,
      "outputs": [
        {
          "output_type": "display_data",
          "data": {
            "image/png": "[encoded data removed]",
            "text/plain": [
              "<Figure size 432x288 with 1 Axes>"
            ]
          },
          "metadata": {
            "tags": []
          }
        }
      ]
    },
    {
      "cell_type": "markdown",
      "metadata": {
        "id": "_ihx7HjdTjit",
        "colab_type": "text"
      },
      "source": [
        "## ●画像の表示\n",
        "pyplotのimshow関数は、配列を画像として表示することができます。  \n",
        "以下のコードは、配列を画像として表示するサンプルです。"
      ]
    },
    {
      "cell_type": "code",
      "metadata": {
        "id": "oCpZKjYcTjit",
        "colab_type": "code",
        "colab": {
          "base_uri": "https://localhost:8080/",
          "height": 269
        },
        "outputId": "cb638745-b68a-4108-9d43-2eb87ff206f0"
      },
      "source": [
        "import numpy as np\n",
        "import matplotlib.pyplot as plt\n",
        "\n",
        "img = np.array([[0, 1, 2, 3],\n",
        "                [4, 5, 6, 7],\n",
        "                [8, 9, 10,11],\n",
        "                [12,13,14,15]])\n",
        "\n",
        "plt.imshow(img, \"gray\")  # グレースケールで表示\n",
        "plt.colorbar()   # カラーバーの表示\n",
        "plt.show()"
      ],
      "execution_count": 6,
      "outputs": [
        {
          "output_type": "display_data",
          "data": {
            "image/png": "[encoded data removed]",
            "text/plain": [
              "<Figure size 432x288 with 2 Axes>"
            ]
          },
          "metadata": {
            "tags": [],
            "needs_background": "light"
          }
        }
      ]
    },
    {
      "cell_type": "markdown",
      "metadata": {
        "id": "TM2PRUnyTjiv",
        "colab_type": "text"
      },
      "source": [
        "この場合、0が黒、15が白を表し、その間の値はこれらの中間色を表します。  \n",
        "カラーバーを表示することもできます。"
      ]
    }
  ]
}